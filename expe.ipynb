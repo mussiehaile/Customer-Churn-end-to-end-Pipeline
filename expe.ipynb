{
 "cells": [
  {
   "cell_type": "code",
   "execution_count": 4,
   "metadata": {},
   "outputs": [],
   "source": [
    "from sklearn.model_selection import train_test_split\n",
    "from sklearn.model_selection import GridSearchCV\n",
    "from sklearn.linear_model import LogisticRegression\n",
    "from sklearn.preprocessing import StandardScaler\n",
    "from sklearn.linear_model import LogisticRegression \n",
    "from sklearn.ensemble import RandomForestClassifier \n",
    "from sklearn.tree import DecisionTreeClassifier\n",
    "from matplotlib import pyplot as plt\n",
    "from sklearn import metrics\n",
    "from sklearn.metrics import accuracy_score \n",
    "import pandas as pd \n",
    "import joblib\n",
    "import mlflow"
   ]
  },
  {
   "cell_type": "code",
   "execution_count": 2,
   "metadata": {},
   "outputs": [],
   "source": [
    "def process(file):\n",
    "    df = pd.read_csv(file)\n",
    "    df = df.drop_duplicates()\n",
    "    df = pd.get_dummies(df, columns=['country', 'gender'])\n",
    "    \n",
    "    X = df.drop('churn', axis=1)\n",
    "    y = df['churn']\n",
    "    X_train, X_test, y_train, y_test = train_test_split(X, y, test_size=0.2, random_state=42) \n",
    "\n",
    "    # Print the shapes of the arrays\n",
    "    print(\"Shape of X_train:\", X_train.shape)\n",
    "    print(\"Shape of y_train:\", y_train.shape)\n",
    "    print(\"Shape of X_test:\", X_test.shape)\n",
    "    print(\"Shape of y_test:\", y_test.shape)\n",
    "    \n",
    "    return X_train, X_test, y_train, y_test"
   ]
  },
  {
   "cell_type": "code",
   "execution_count": 3,
   "metadata": {},
   "outputs": [
    {
     "name": "stdout",
     "output_type": "stream",
     "text": [
      "Shape of X_train: (8000, 14)\n",
      "Shape of y_train: (8000,)\n",
      "Shape of X_test: (2000, 14)\n",
      "Shape of y_test: (2000,)\n"
     ]
    }
   ],
   "source": [
    "#process(r'C:\\Users\\mussie\\Music\\final pro\\Bank Customer Churn Prediction.csv')\n",
    "X_train, X_test, y_train, y_test = process(r'C:\\Users\\mussie\\Music\\final pro\\Bank Customer Churn Prediction.csv')"
   ]
  },
  {
   "cell_type": "code",
   "execution_count": 43,
   "metadata": {},
   "outputs": [],
   "source": [
    "#mlflow.set_tracking_uri('sqlite:///mlflow.db')\n",
    "mlflow.set_experiment('bank-experiment')\n",
    "\n",
    "def train_model(X_train, y_train):\n",
    "    \"\"\"\n",
    "    Train a logistic regression model using cross-validation and grid search for parameter tuning.\n",
    "    \"\"\"\n",
    "    # Scale the data\n",
    "    scaler = StandardScaler()\n",
    "    X_train_scaled = scaler.fit_transform(X_train)\n",
    "    \n",
    "    # Define the grid of hyperparameters to search over\n",
    "    param_grid = {\n",
    "        'C': [0.1, 1.0, 10.0],\n",
    "        'penalty': ['l2']\n",
    "    }\n",
    "    \n",
    "    # Start an MLflow run\n",
    "    with mlflow.start_run(run_name='second'):\n",
    "        mlflow.autolog()\n",
    "        \n",
    "        # Perform a grid search with 5-fold cross-validation\n",
    "        grid_search = GridSearchCV(LogisticRegression(), param_grid, cv=5)\n",
    "        grid_search.fit(X_train_scaled, y_train)\n",
    "    \n",
    "        lr_model = LogisticRegression(**grid_search.best_params_)\n",
    "        lr_model.fit(X_train_scaled, y_train)\n",
    "        \n",
    "         # Save model to file\n",
    "        joblib.dump(lr_model, \"model_exp_1.joblib\")\n",
    "        \n",
    "        # Return the trained model\n",
    "        return lr_model"
   ]
  },
  {
   "cell_type": "code",
   "execution_count": 44,
   "metadata": {},
   "outputs": [
    {
     "name": "stderr",
     "output_type": "stream",
     "text": [
      "2023/07/11 06:03:24 INFO mlflow.tracking.fluent: Autologging successfully enabled for sklearn.\n",
      "2023/07/11 06:03:24 WARNING mlflow.sklearn: Failed to log training dataset information to MLflow Tracking. Reason: 'Series' object has no attribute 'flatten'\n",
      "2023/07/11 06:03:33 INFO mlflow.sklearn.utils: Logging the 5 best runs, no runs will be omitted.\n",
      "2023/07/11 06:03:33 WARNING mlflow.sklearn: Failed to log training dataset information to MLflow Tracking. Reason: 'Series' object has no attribute 'flatten'\n"
     ]
    },
    {
     "data": {
      "text/html": [
       "<style>#sk-container-id-7 {color: black;background-color: white;}#sk-container-id-7 pre{padding: 0;}#sk-container-id-7 div.sk-toggleable {background-color: white;}#sk-container-id-7 label.sk-toggleable__label {cursor: pointer;display: block;width: 100%;margin-bottom: 0;padding: 0.3em;box-sizing: border-box;text-align: center;}#sk-container-id-7 label.sk-toggleable__label-arrow:before {content: \"▸\";float: left;margin-right: 0.25em;color: #696969;}#sk-container-id-7 label.sk-toggleable__label-arrow:hover:before {color: black;}#sk-container-id-7 div.sk-estimator:hover label.sk-toggleable__label-arrow:before {color: black;}#sk-container-id-7 div.sk-toggleable__content {max-height: 0;max-width: 0;overflow: hidden;text-align: left;background-color: #f0f8ff;}#sk-container-id-7 div.sk-toggleable__content pre {margin: 0.2em;color: black;border-radius: 0.25em;background-color: #f0f8ff;}#sk-container-id-7 input.sk-toggleable__control:checked~div.sk-toggleable__content {max-height: 200px;max-width: 100%;overflow: auto;}#sk-container-id-7 input.sk-toggleable__control:checked~label.sk-toggleable__label-arrow:before {content: \"▾\";}#sk-container-id-7 div.sk-estimator input.sk-toggleable__control:checked~label.sk-toggleable__label {background-color: #d4ebff;}#sk-container-id-7 div.sk-label input.sk-toggleable__control:checked~label.sk-toggleable__label {background-color: #d4ebff;}#sk-container-id-7 input.sk-hidden--visually {border: 0;clip: rect(1px 1px 1px 1px);clip: rect(1px, 1px, 1px, 1px);height: 1px;margin: -1px;overflow: hidden;padding: 0;position: absolute;width: 1px;}#sk-container-id-7 div.sk-estimator {font-family: monospace;background-color: #f0f8ff;border: 1px dotted black;border-radius: 0.25em;box-sizing: border-box;margin-bottom: 0.5em;}#sk-container-id-7 div.sk-estimator:hover {background-color: #d4ebff;}#sk-container-id-7 div.sk-parallel-item::after {content: \"\";width: 100%;border-bottom: 1px solid gray;flex-grow: 1;}#sk-container-id-7 div.sk-label:hover label.sk-toggleable__label {background-color: #d4ebff;}#sk-container-id-7 div.sk-serial::before {content: \"\";position: absolute;border-left: 1px solid gray;box-sizing: border-box;top: 0;bottom: 0;left: 50%;z-index: 0;}#sk-container-id-7 div.sk-serial {display: flex;flex-direction: column;align-items: center;background-color: white;padding-right: 0.2em;padding-left: 0.2em;position: relative;}#sk-container-id-7 div.sk-item {position: relative;z-index: 1;}#sk-container-id-7 div.sk-parallel {display: flex;align-items: stretch;justify-content: center;background-color: white;position: relative;}#sk-container-id-7 div.sk-item::before, #sk-container-id-7 div.sk-parallel-item::before {content: \"\";position: absolute;border-left: 1px solid gray;box-sizing: border-box;top: 0;bottom: 0;left: 50%;z-index: -1;}#sk-container-id-7 div.sk-parallel-item {display: flex;flex-direction: column;z-index: 1;position: relative;background-color: white;}#sk-container-id-7 div.sk-parallel-item:first-child::after {align-self: flex-end;width: 50%;}#sk-container-id-7 div.sk-parallel-item:last-child::after {align-self: flex-start;width: 50%;}#sk-container-id-7 div.sk-parallel-item:only-child::after {width: 0;}#sk-container-id-7 div.sk-dashed-wrapped {border: 1px dashed gray;margin: 0 0.4em 0.5em 0.4em;box-sizing: border-box;padding-bottom: 0.4em;background-color: white;}#sk-container-id-7 div.sk-label label {font-family: monospace;font-weight: bold;display: inline-block;line-height: 1.2em;}#sk-container-id-7 div.sk-label-container {text-align: center;}#sk-container-id-7 div.sk-container {/* jupyter's `normalize.less` sets `[hidden] { display: none; }` but bootstrap.min.css set `[hidden] { display: none !important; }` so we also need the `!important` here to be able to override the default hidden behavior on the sphinx rendered scikit-learn.org. See: https://github.com/scikit-learn/scikit-learn/issues/21755 */display: inline-block !important;position: relative;}#sk-container-id-7 div.sk-text-repr-fallback {display: none;}</style><div id=\"sk-container-id-7\" class=\"sk-top-container\"><div class=\"sk-text-repr-fallback\"><pre>LogisticRegression()</pre><b>In a Jupyter environment, please rerun this cell to show the HTML representation or trust the notebook. <br />On GitHub, the HTML representation is unable to render, please try loading this page with nbviewer.org.</b></div><div class=\"sk-container\" hidden><div class=\"sk-item\"><div class=\"sk-estimator sk-toggleable\"><input class=\"sk-toggleable__control sk-hidden--visually\" id=\"sk-estimator-id-11\" type=\"checkbox\" checked><label for=\"sk-estimator-id-11\" class=\"sk-toggleable__label sk-toggleable__label-arrow\">LogisticRegression</label><div class=\"sk-toggleable__content\"><pre>LogisticRegression()</pre></div></div></div></div></div>"
      ],
      "text/plain": [
       "LogisticRegression()"
      ]
     },
     "execution_count": 44,
     "metadata": {},
     "output_type": "execute_result"
    }
   ],
   "source": [
    "train_model(X_train,y_train)"
   ]
  },
  {
   "cell_type": "code",
   "execution_count": 6,
   "metadata": {},
   "outputs": [],
   "source": [
    "lr= LogisticRegression(random_state=1)\n",
    "lr_param_grid = {\n",
    "        'C': [0.1, 1.0, 10.0],\n",
    "        'penalty': ['l2'],\n",
    "        'solver':['liblinear']\n",
    "    }\n",
    "\n",
    "lr_gs = GridSearchCV(\n",
    "    estimator=lr,\n",
    "    param_grid=lr_param_grid,\n",
    "    cv =5,\n",
    "    n_jobs=1,\n",
    "    scoring='accuracy',\n",
    "    verbose= 0\n",
    ")\n",
    "\n",
    "lr_model= lr.fit(X_train,y_train)\n",
    "\n"
   ]
  },
  {
   "cell_type": "code",
   "execution_count": 8,
   "metadata": {},
   "outputs": [],
   "source": [
    "dt = DecisionTreeClassifier(random_state=1)\n",
    "\n",
    "dt_param_grid = {\n",
    "        'max_depth': [3,5,7,9,11,13],\n",
    "        'criterion': ['gini','entropy']\n",
    "    }\n",
    "\n",
    "dt_gs = GridSearchCV(\n",
    "    estimator=dt,\n",
    "    param_grid=dt_param_grid,\n",
    "    cv =5,\n",
    "    n_jobs=1,\n",
    "    scoring='accuracy',\n",
    "    verbose= 0\n",
    ")\n",
    "\n",
    "dt_model = dt_gs.fit(X_train,y_train)"
   ]
  },
  {
   "cell_type": "code",
   "execution_count": 9,
   "metadata": {},
   "outputs": [],
   "source": [
    "rf = RandomForestClassifier(random_state=1)\n",
    "rf_param_grid = {\n",
    "        'n_estimators': [400,700],\n",
    "        'max_depth':[15,20,25],\n",
    "        'criterion': ['gini','entropy'],\n",
    "        'max_leaf_nodes':[50,100]\n",
    "    }\n",
    "\n",
    "rf_gs =  GridSearchCV(\n",
    "    estimator=rf,\n",
    "    param_grid=rf_param_grid,\n",
    "    cv =5,\n",
    "    n_jobs=1,\n",
    "    scoring='accuracy',\n",
    "    verbose= 0\n",
    ")\n",
    "\n",
    "rf_model = rf_gs.fit(X_train,y_train)\n",
    "\n"
   ]
  },
  {
   "cell_type": "code",
   "execution_count": 11,
   "metadata": {},
   "outputs": [],
   "source": [
    "def model_metrics(actual,pred):\n",
    "    accuracy = metrics.accuracy_score(y_test,pred)\n",
    "    f1 =metrics.f1_score(actual,pred,pos_label=1)\n",
    "    fpr,tpr,threshold1 = metrics.roc_curve(y_test,pred)\n",
    "    auc = metrics.auc(fpr,tpr)\n",
    "    plt.figure(figsize=(8,8))\n",
    "    \n",
    "    plt.plot(fpr,tpr, color = 'blue', label = 'ROC curve area = %0.2f'%auc)\n",
    "    \n",
    "    plt.plot([0,1],[0,1],'r--')\n",
    "    plt.xlim([-0.1,1.1])\n",
    "    plt.ylim([-0.1,1.1])\n",
    "    plt.xlabel('False positive rate',size= 14)\n",
    "    plt.ylabel('True positve Rate',size = 14)\n",
    "    plt.legend(loc ='lower right')\n",
    "    \n",
    "    plt.savefig('plot/roc_curve.png')\n",
    "    \n",
    "    plt.close()\n",
    "    \n",
    "    return(accuracy,f1,auc)\n",
    "    \n",
    "    "
   ]
  },
  {
   "cell_type": "code",
   "execution_count": 23,
   "metadata": {},
   "outputs": [],
   "source": [
    "def mlflow_logs(model,X,y,name):\n",
    "    \n",
    "    mlflow.set_experiment('bank-experiment')\n",
    "    \n",
    "    with mlflow.start_run(run_name=name) as run:\n",
    "        run_id = run.info.run_id\n",
    "        mlflow.set_tag('run_id',run_id)\n",
    "        \n",
    "        pred = model.predict(X)\n",
    "        \n",
    "        (accuracy,f1,auc)  = model_metrics(y,pred)\n",
    "        \n",
    "        mlflow.log_params(model.best_params_)\n",
    "        \n",
    "        \n",
    "        \n",
    "        mlflow.log_metric('Mean cv score',model.best_score_)\n",
    "        mlflow.log_metric('Accuracy',accuracy)\n",
    "        mlflow.log_metric('f1-score',f1)\n",
    "        mlflow.log_metric('AUC',auc)\n",
    "        \n",
    "        mlflow.log_artifact(\"plot/ROC_curve.png\")\n",
    "        mlflow.sklearn.log_model(model,name)\n",
    "        \n",
    "        mlflow.end_run()\n",
    "\n",
    "mlflow_logs(dt_model,X_test,y_test,'DecisionTreeClassifier')\n",
    "mlflow_logs(rf_model,X_test,y_test,'RandomForestClassifier')\n",
    "#mlflow_logs(lr_model,X_test,y_test,\"LogisticRegression\")"
   ]
  },
  {
   "cell_type": "code",
   "execution_count": null,
   "metadata": {},
   "outputs": [],
   "source": []
  }
 ],
 "metadata": {
  "kernelspec": {
   "display_name": "my",
   "language": "python",
   "name": "python3"
  },
  "language_info": {
   "codemirror_mode": {
    "name": "ipython",
    "version": 3
   },
   "file_extension": ".py",
   "mimetype": "text/x-python",
   "name": "python",
   "nbconvert_exporter": "python",
   "pygments_lexer": "ipython3",
   "version": "3.11.3"
  },
  "orig_nbformat": 4
 },
 "nbformat": 4,
 "nbformat_minor": 2
}
